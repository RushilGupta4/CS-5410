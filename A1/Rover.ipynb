{
  "cells": [
    {
      "cell_type": "code",
      "execution_count": 2,
      "metadata": {
        "id": "lW8pOCEjhBwq"
      },
      "outputs": [],
      "source": [
        "import numpy as np"
      ]
    },
    {
      "cell_type": "code",
      "execution_count": 3,
      "metadata": {
        "id": "W2w7DhoqhESA"
      },
      "outputs": [],
      "source": [
        "## Actions, rewards and Transition probabilities\n",
        "## Do now change the values here\n",
        "\n",
        "actions = ['Spin_Slow', 'Spin_Fast']\n",
        "\n",
        "STATE_SPACE = ['Top', 'High', 'Medium', 'Low']\n",
        "\n"
      ]
    },
    {
      "cell_type": "code",
      "execution_count": 4,
      "metadata": {
        "id": "1ADo3HTdiUrd"
      },
      "outputs": [],
      "source": [
        "def get_prob_state_and_reward(state, action):\n",
        "  if state == 'Top':\n",
        "    return [('Top', 1, 0)]\n",
        "  if action == 'Spin_Slow':\n",
        "    return [(STATE_SPACE[np.maximum(STATE_SPACE.index(state) - 1, 0)], 0.3 , -1), \\\n",
        "            (STATE_SPACE[np.minimum(STATE_SPACE.index(state) + 1, 3)], 0.7, -1)]\n",
        "  if action == 'Spin_Fast':\n",
        "    return [(STATE_SPACE[np.maximum(STATE_SPACE.index(state) - 1, 0)], 0.5 , -2), \\\n",
        "            (STATE_SPACE[np.minimum(STATE_SPACE.index(state) + 1, 3)], 0.5, -2)]"
      ]
    },
    {
      "cell_type": "code",
      "execution_count": 5,
      "metadata": {
        "colab": {
          "base_uri": "https://localhost:8080/"
        },
        "id": "ksqnLzWTlwUz",
        "outputId": "a281fd10-d109-4e86-bcd2-001151c4afe0"
      },
      "outputs": [
        {
          "data": {
            "text/plain": [
              "[('Medium', 0.5, -2), ('Low', 0.5, -2)]"
            ]
          },
          "execution_count": 5,
          "metadata": {},
          "output_type": "execute_result"
        }
      ],
      "source": [
        "get_prob_state_and_reward('Low', 'Spin_Fast')"
      ]
    },
    {
      "cell_type": "code",
      "execution_count": 6,
      "metadata": {
        "id": "xmoLFmiLl-nU"
      },
      "outputs": [],
      "source": [
        "# Hyperparameters\n",
        "#Modify and use these values in value_iteration function\n",
        "gamma = 1  # Discount factor\n",
        "theta = 1e-8  # Convergence threshold\n",
        "max_iterations = 10000"
      ]
    },
    {
      "cell_type": "code",
      "execution_count": null,
      "metadata": {
        "id": "l3YREKc9nUxk"
      },
      "outputs": [],
      "source": [
        "\n",
        "def value_iteration():\n",
        "  # modify V and P here to define the value iteration function\n",
        "  V = np.zeros(4)\n",
        "  # initializing policies with the constant action \"Spin_Slow\" at all states\n",
        "  P = np.array(['Spin_Slow']*4)\n",
        "\n",
        "  for _ in range(max_iterations):\n",
        "    delta = 0\n",
        "    new_V = np.zeros(4)\n",
        "    for i, state in enumerate(STATE_SPACE):\n",
        "      # Find the best action for this state\n",
        "      max_v = float('-inf')\n",
        "      best_action = P[i]\n",
        "      \n",
        "      for action in actions:\n",
        "        # Get next states, probabilities and rewards\n",
        "        next_states = get_prob_state_and_reward(state, action)\n",
        "        expected_value = 0\n",
        "        \n",
        "        # E[x] = sum(P(x_i) * x_i)\n",
        "        for next_state, prob, reward in next_states:\n",
        "          next_state_index = STATE_SPACE.index(next_state)\n",
        "          expected_value += prob * (reward + gamma * V[next_state_index])\n",
        "        \n",
        "        # Update best action\n",
        "        if expected_value > max_v:\n",
        "          max_v = expected_value\n",
        "          best_action = action\n",
        "      \n",
        "      # Update value function and policy\n",
        "      new_V[i] = max_v\n",
        "      P[i] = best_action\n",
        "      \n",
        "      # Track maximum change\n",
        "      delta = max(delta, abs(V[i] - new_V[i]))\n",
        "\n",
        "    V = new_V\n",
        "    # Check for convergence\n",
        "    if delta < theta:\n",
        "      break\n",
        "  \n",
        "  return V, P\n",
        "\n",
        "\n"
      ]
    },
    {
      "cell_type": "code",
      "execution_count": 30,
      "metadata": {
        "colab": {
          "base_uri": "https://localhost:8080/"
        },
        "id": "krGeN5E1sIih",
        "outputId": "382fdf64-baff-409e-abf6-de4e9908b4d0"
      },
      "outputs": [],
      "source": [
        "A,Q = value_iteration()"
      ]
    },
    {
      "cell_type": "code",
      "execution_count": 31,
      "metadata": {
        "colab": {
          "base_uri": "https://localhost:8080/"
        },
        "id": "ED4a8lC-sJ82",
        "outputId": "bb64b1cc-8c75-4173-ca92-85f3d8da4ccc"
      },
      "outputs": [
        {
          "data": {
            "text/plain": [
              "array([  0.        , -11.33333328, -18.66666657, -21.99999988])"
            ]
          },
          "execution_count": 31,
          "metadata": {},
          "output_type": "execute_result"
        }
      ],
      "source": [
        "A"
      ]
    },
    {
      "cell_type": "code",
      "execution_count": 32,
      "metadata": {
        "id": "mgUp-Mogvj-R"
      },
      "outputs": [
        {
          "data": {
            "text/plain": [
              "array(['Spin_Slow', 'Spin_Fast', 'Spin_Fast', 'Spin_Slow'], dtype='<U9')"
            ]
          },
          "execution_count": 32,
          "metadata": {},
          "output_type": "execute_result"
        }
      ],
      "source": [
        "Q"
      ]
    },
    {
      "cell_type": "code",
      "execution_count": null,
      "metadata": {},
      "outputs": [],
      "source": []
    }
  ],
  "metadata": {
    "colab": {
      "provenance": []
    },
    "kernelspec": {
      "display_name": "venv",
      "language": "python",
      "name": "python3"
    },
    "language_info": {
      "codemirror_mode": {
        "name": "ipython",
        "version": 3
      },
      "file_extension": ".py",
      "mimetype": "text/x-python",
      "name": "python",
      "nbconvert_exporter": "python",
      "pygments_lexer": "ipython3",
      "version": "3.10.10"
    }
  },
  "nbformat": 4,
  "nbformat_minor": 0
}
