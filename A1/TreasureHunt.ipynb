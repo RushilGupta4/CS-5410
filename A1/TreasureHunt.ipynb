{
  "cells": [
    {
      "cell_type": "code",
      "execution_count": 1,
      "metadata": {
        "id": "TAE-FLFmNmSJ"
      },
      "outputs": [],
      "source": [
        "import numpy as np\n",
        "import matplotlib.pyplot as plt\n"
      ]
    },
    {
      "cell_type": "code",
      "execution_count": 2,
      "metadata": {
        "id": "086PsBWuNn-Q"
      },
      "outputs": [],
      "source": [
        "# Grid size\n",
        "GRID_SIZE = 20"
      ]
    },
    {
      "cell_type": "code",
      "execution_count": 3,
      "metadata": {
        "id": "3OAh159INuUg"
      },
      "outputs": [],
      "source": [
        "# Randomly generate blocked squares and gold position\n",
        "np.random.seed()  # Different for each run\n",
        "blocked_squares = set((np.random.randint(GRID_SIZE), np.random.randint(GRID_SIZE)) for _ in range(GRID_SIZE//2))\n",
        "\n",
        "\n"
      ]
    },
    {
      "cell_type": "code",
      "execution_count": 4,
      "metadata": {
        "id": "srfbIvYySk1B"
      },
      "outputs": [],
      "source": [
        "NUM_BLOCKED = 90\n",
        "\n",
        "blocked_squares = set()\n",
        "while len(blocked_squares) < NUM_BLOCKED:\n",
        "    bx, by = np.random.randint(GRID_SIZE), np.random.randint(GRID_SIZE)\n",
        "    blocked_squares.add((bx, by))"
      ]
    },
    {
      "cell_type": "code",
      "execution_count": 23,
      "metadata": {
        "id": "w2F53MsCSqFo"
      },
      "outputs": [],
      "source": [
        "gold_position = (np.random.randint(GRID_SIZE), np.random.randint(GRID_SIZE))\n",
        "while gold_position in blocked_squares:  # Ensure gold isn't in a blocked square\n",
        "    gold_position = (np.random.randint(GRID_SIZE), np.random.randint(GRID_SIZE))"
      ]
    },
    {
      "cell_type": "code",
      "execution_count": 6,
      "metadata": {
        "id": "k-DGbJnRNx7r"
      },
      "outputs": [],
      "source": [
        "# Define rewards\n",
        "REWARD_STEP = -1\n",
        "REWARD_GOLD = 200\n"
      ]
    },
    {
      "cell_type": "code",
      "execution_count": 7,
      "metadata": {
        "id": "V6Cu62ilN4wc"
      },
      "outputs": [],
      "source": [
        "# Initialize value function\n",
        "V = np.zeros((GRID_SIZE, GRID_SIZE))"
      ]
    },
    {
      "cell_type": "code",
      "execution_count": 8,
      "metadata": {
        "id": "1LSoMUdZN8xN"
      },
      "outputs": [],
      "source": [
        "# Define actions (up, down, left, right)\n",
        "# first coordinate correspondes to change in Row index ,\n",
        "# second coordinate corresponds to change in Column index\n",
        "actions = {\n",
        "    0: (-1, 0),  # Up\n",
        "    1: (1, 0),   # Down\n",
        "    2: (0, -1),  # Left\n",
        "    3: (0, 1)    # Right\n",
        "}"
      ]
    },
    {
      "cell_type": "code",
      "execution_count": 9,
      "metadata": {
        "id": "QVoI-Es6N_0n"
      },
      "outputs": [],
      "source": [
        "# Hyperparameters\n",
        "gamma = 0.99  # Discount factor\n",
        "theta = 1e-6  # Convergence threshold\n",
        "max_iterations = 1000\n",
        "p_intended = 0.9  # Probability of intended move\n",
        "p_random = 0.1  # Probability of moving randomly"
      ]
    },
    {
      "cell_type": "code",
      "execution_count": 10,
      "metadata": {
        "id": "n9vE4tqOOGKK"
      },
      "outputs": [],
      "source": [
        "def is_valid(x, y):\n",
        "    \"\"\"Check if a position is within bounds and not blocked.\"\"\"\n",
        "    return 0 <= x < GRID_SIZE and 0 <= y < GRID_SIZE and (x, y) not in blocked_squares"
      ]
    },
    {
      "cell_type": "code",
      "execution_count": 11,
      "metadata": {
        "id": "SA6dwI1HOJ4R"
      },
      "outputs": [],
      "source": [
        "## return an array whose elements are of the form (p,a,b), where after taking the action from position (x,y), the agent\n",
        "##  moves to state (a,b) with probability p\n",
        "\n",
        "\n",
        "def get_transition_probabilities(x, y, action):\n",
        "    \"\"\"\n",
        "    Returns a list of (probability, next_x, next_y) tuples\n",
        "    for the stochastic transitions from (x, y) using `action`.\n",
        "    \"\"\"\n",
        "    intended_dx, intended_dy = actions[action]\n",
        "    intended_x, intended_y = x + intended_dx, y + intended_dy\n",
        "\n",
        "    # If intended move is invalid, stay in place\n",
        "    if not is_valid(intended_x, intended_y):\n",
        "        intended_x, intended_y = x, y\n",
        "\n",
        "    transitions = [(p_intended, intended_x, intended_y)]\n",
        "\n",
        "    # Select a random other action\n",
        "    other_actions = [a for a in actions if a != action]\n",
        "    for other_action in other_actions:\n",
        "        rand_dx, rand_dy = actions[other_action]\n",
        "        rand_x, rand_y = x + rand_dx, y + rand_dy\n",
        "        if not is_valid(rand_x, rand_y):\n",
        "            rand_x, rand_y = x, y\n",
        "        transitions.append((p_random / len(other_actions), rand_x, rand_y))\n",
        "\n",
        "    return transitions"
      ]
    },
    {
      "cell_type": "code",
      "execution_count": 12,
      "metadata": {
        "colab": {
          "base_uri": "https://localhost:8080/"
        },
        "id": "7gssvSMVO5PG",
        "outputId": "d43d6fc0-4bfd-48e0-b9b7-2b8e2b2fef6a"
      },
      "outputs": [
        {
          "data": {
            "text/plain": [
              "[(0.9, 1, 0),\n",
              " (0.03333333333333333, 0, 0),\n",
              " (0.03333333333333333, 0, 0),\n",
              " (0.03333333333333333, 0, 1)]"
            ]
          },
          "execution_count": 12,
          "metadata": {},
          "output_type": "execute_result"
        }
      ],
      "source": [
        "get_transition_probabilities(0, 0, 1)"
      ]
    },
    {
      "cell_type": "code",
      "execution_count": 30,
      "metadata": {
        "id": "ILRK5Z7mOtyT"
      },
      "outputs": [],
      "source": [
        "def value_iteration():\n",
        "    \"\"\"\n",
        "    Write this function to perform value iteration on the grid\n",
        "    \"\"\"\n",
        "    for i in range(max_iterations):\n",
        "        delta = 0\n",
        "        new_V = np.zeros((GRID_SIZE, GRID_SIZE))\n",
        "        for x in range(GRID_SIZE):\n",
        "            for y in range(GRID_SIZE):\n",
        "                if (x, y) == gold_position:\n",
        "                    new_V[x, y] = REWARD_GOLD\n",
        "                elif (x, y) in blocked_squares:\n",
        "                    new_V[x, y] = 0\n",
        "                else:\n",
        "                    best_reward = float('-inf')\n",
        "                    for action in actions:\n",
        "                        reward = 0\n",
        "                        for p, a, b in get_transition_probabilities(x, y, action):\n",
        "                            reward += p * (REWARD_STEP + gamma * V[a, b])\n",
        "                        best_reward = max(best_reward, reward)\n",
        "\n",
        "                    new_V[x, y] = best_reward\n",
        "                    delta = max(delta, abs(new_V[x, y] - V[x, y]))\n",
        "        if delta < theta:\n",
        "            break"
      ]
    },
    {
      "cell_type": "code",
      "execution_count": 31,
      "metadata": {
        "id": "iwFDbnonNfh5"
      },
      "outputs": [],
      "source": [
        "def extract_policy():\n",
        "    \"\"\"\n",
        "    Write this function to extract the optimal policy from the computed value function.\n",
        "    \"\"\"\n",
        "    policy = np.zeros((GRID_SIZE, GRID_SIZE), dtype=int)\n",
        "    for x in range(GRID_SIZE):\n",
        "        for y in range(GRID_SIZE):\n",
        "            if (x, y) == gold_position:\n",
        "                policy[x, y] = -1\n",
        "            elif (x, y) in blocked_squares:\n",
        "                policy[x, y] = -1\n",
        "            else:\n",
        "                policy[x, y] = np.argmax([sum(p * (REWARD_STEP + gamma * V[a, b]) for p, a, b in get_transition_probabilities(x, y, action)) for action in actions])\n",
        "\n",
        "    # Convert integer actions to arrow characters\n",
        "    # An attempt to replicate the assignment's output\n",
        "    policy_chars = np.empty((GRID_SIZE, GRID_SIZE), dtype='U1')\n",
        "    for i in range(GRID_SIZE):\n",
        "        for j in range(GRID_SIZE):\n",
        "            if policy[i, j] == -1:\n",
        "                policy_chars[i, j] = '█'\n",
        "            elif policy[i, j] == 0:\n",
        "                policy_chars[i, j] = '↑'\n",
        "            elif policy[i, j] == 1:\n",
        "                policy_chars[i, j] = '↓'\n",
        "            elif policy[i, j] == 2:\n",
        "                policy_chars[i, j] = '←'\n",
        "            elif policy[i, j] == 3:\n",
        "                policy_chars[i, j] = '→'\n",
        "    return policy_chars\n",
        "\n"
      ]
    },
    {
      "cell_type": "code",
      "execution_count": 32,
      "metadata": {
        "colab": {
          "base_uri": "https://localhost:8080/",
          "height": 1000
        },
        "id": "uUFzF7_YQMVY",
        "outputId": "1f5352b9-c78f-4a0b-9c0b-2b3b4e1cf0e4"
      },
      "outputs": [
        {
          "name": "stdout",
          "output_type": "stream",
          "text": [
            "\n",
            "Optimal Policy Grid:\n",
            "→ → ↓ ← ← ← █ → ↓ █ ↓ ↓ ← ← █ ↓ ↓ ← █ ↓\n",
            "→ → ↓ ← ← ← █ █ → ↓ ↓ ↓ ← █ █ ↓ ← █ → ↓\n",
            "↑ █ ↓ █ █ █ █ ↓ █ ↓ ← ← █ ↓ ← ← ← ← █ ↓\n",
            "█ █ → ↓ ↓ → ↓ ↓ ↓ ← ← ← ← ← ← █ ↓ █ ↓ ←\n",
            "→ → → ↓ ↓ █ ↓ ↓ ↓ █ ↑ ← ← ← ← ← ← ← ← ←\n",
            "→ → → → → ↓ ↓ ↓ ↓ █ █ █ █ █ ↑ ↓ █ ↓ ↓ █\n",
            "→ → → → → ↓ ↓ ← ← ← ← █ → ↓ █ ↓ ↓ ← ← ←\n",
            "→ ↓ ↓ █ █ ↓ ← ← ← ← ← ← █ ↓ █ ↓ ← ← ← ←\n",
            "→ ↓ ↓ █ █ ← ← ← █ █ ↑ ↑ ← ← ← ← ← ← █ ↑\n",
            "█ → ↓ █ ↑ ← ← ← ← ← █ ↑ ← ← ← ← ← ← ← █\n",
            "↑ █ → → ↑ ↑ ← ← █ ↑ █ ↑ █ █ ↑ ↑ ← █ ↑ ←\n",
            "█ ↓ █ █ ↑ ↑ ↑ ↑ ← ← ← █ → → ↑ ↑ ↑ ← ← ←\n",
            "→ → → ↓ █ ↑ ↑ ← ← ← █ ↑ █ ↓ ↑ ↑ ↑ █ ↑ ↑\n",
            "→ → → → → ↑ █ ↑ █ █ ↓ █ ↓ ← █ ↑ █ █ ↑ █\n",
            "↑ ↑ █ → ↑ ↑ ← ↑ ← ← ← ← ← ← ← ← ← ← ← █\n",
            "→ → → ↑ ↑ ↑ ↑ ↑ ← ← ← █ █ ↑ █ ↑ ↑ █ ↑ ←\n",
            "→ → → ↑ ↑ ↑ ↑ ↑ █ ↑ ↑ █ ↑ █ → ↑ ↑ █ ↑ ↑\n",
            "↑ → → ↑ ↑ ↑ ↑ ↑ ← ↑ ↑ █ █ ↓ ↑ █ ↑ ← ← ←\n",
            "↑ ↑ ↑ █ ↑ █ █ ↑ ↑ ↑ █ ↓ ← ← ← █ █ ↑ ↑ ↑\n",
            "↑ █ ↑ █ ↑ █ → ↑ ↑ ↑ ← ← ← ← █ → → ↑ ↑ █\n"
          ]
        },
        {
          "data": {
            "image/png": "[encoded data removed]",
            "text/plain": [
              "<Figure size 800x800 with 2 Axes>"
            ]
          },
          "metadata": {},
          "output_type": "display_data"
        }
      ],
      "source": [
        "# Run Value Iteration\n",
        "value_iteration()\n",
        "\n",
        "# Extract and visualize policy\n",
        "optimal_policy = extract_policy()\n",
        "\n",
        "print(\"\\nOptimal Policy Grid:\")\n",
        "for row in optimal_policy:\n",
        "    print(\" \".join(row))\n",
        "\n",
        "# Plot the Value Function\n",
        "plt.figure(figsize=(8, 8))\n",
        "plt.imshow(V, cmap=\"coolwarm\", interpolation=\"nearest\")\n",
        "plt.colorbar(label=\"State Value\")\n",
        "plt.title(\"Optimal State Value Function\")\n",
        "plt.show()\n"
      ]
    },
    {
      "cell_type": "code",
      "execution_count": 24,
      "metadata": {
        "colab": {
          "base_uri": "https://localhost:8080/"
        },
        "id": "jeRJrQXJQNjL",
        "outputId": "f8c9e9ea-627b-4b29-9e10-be3a4d8ca7cb"
      },
      "outputs": [
        {
          "data": {
            "text/plain": [
              "(8, 4)"
            ]
          },
          "execution_count": 24,
          "metadata": {},
          "output_type": "execute_result"
        }
      ],
      "source": [
        "gold_position"
      ]
    },
    {
      "cell_type": "code",
      "execution_count": null,
      "metadata": {
        "id": "ikNrRUbSUg3s"
      },
      "outputs": [],
      "source": []
    }
  ],
  "metadata": {
    "colab": {
      "provenance": []
    },
    "kernelspec": {
      "display_name": "venv",
      "language": "python",
      "name": "python3"
    },
    "language_info": {
      "codemirror_mode": {
        "name": "ipython",
        "version": 3
      },
      "file_extension": ".py",
      "mimetype": "text/x-python",
      "name": "python",
      "nbconvert_exporter": "python",
      "pygments_lexer": "ipython3",
      "version": "3.10.10"
    }
  },
  "nbformat": 4,
  "nbformat_minor": 0
}
